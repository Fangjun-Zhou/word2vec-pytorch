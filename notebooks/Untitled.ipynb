{
 "cells": [
  {
   "cell_type": "code",
   "execution_count": 1,
   "id": "204e5232",
   "metadata": {},
   "outputs": [],
   "source": [
    "%load_ext autoreload\n",
    "%autoreload 2\n",
    "%load_ext lab_black"
   ]
  },
  {
   "cell_type": "code",
   "execution_count": 288,
   "id": "cc07b444",
   "metadata": {},
   "outputs": [],
   "source": [
    "import numpy as np\n",
    "import pandas as pd\n",
    "\n",
    "import torch\n",
    "import torch.nn as nn\n",
    "\n",
    "import torchtext\n",
    "from collections import Counter, OrderedDict\n",
    "from torchtext.datasets import WikiText2\n",
    "from torchtext.data import to_map_style_dataset\n",
    "from torchtext.data.utils import get_tokenizer, ngrams_iterator\n",
    "from torchtext.vocab import build_vocab_from_iterator\n",
    "\n",
    "import nltk"
   ]
  },
  {
   "cell_type": "markdown",
   "id": "e1dccc0e",
   "metadata": {},
   "source": [
    "## Loading dataset"
   ]
  },
  {
   "cell_type": "code",
   "execution_count": 161,
   "id": "4d0754d1",
   "metadata": {},
   "outputs": [],
   "source": [
    "train_data = WikiText2(root=\"../data/\", split=(\"train\"))\n",
    "train_data = to_map_style_dataset(train_data)"
   ]
  },
  {
   "cell_type": "markdown",
   "id": "59381a24",
   "metadata": {},
   "source": [
    "## Building Vocabulary"
   ]
  },
  {
   "cell_type": "code",
   "execution_count": null,
   "id": "c8831d0f",
   "metadata": {},
   "outputs": [],
   "source": [
    "tokenizer = get_tokenizer(tokenizer=\"basic_english\", language=\"en\")"
   ]
  },
  {
   "cell_type": "code",
   "execution_count": 214,
   "id": "4f191329",
   "metadata": {},
   "outputs": [
    {
     "name": "stdout",
     "output_type": "stream",
     "text": [
      "Vocabulary size: 4099\n"
     ]
    }
   ],
   "source": [
    "vocabulary = build_vocab_from_iterator(\n",
    "    map(tokenizer, train_data), min_freq=50, specials=[\"<unk>\"]\n",
    ")\n",
    "vocabulary.set_default_index(vocabulary[\"<unk>\"])\n",
    "vocab_size = len(vocabulary.get_stoi())\n",
    "print(\"Vocabulary size:\", vocab_size)"
   ]
  },
  {
   "cell_type": "markdown",
   "id": "b9fe470b",
   "metadata": {},
   "source": [
    "## Preparing Dataset"
   ]
  },
  {
   "cell_type": "code",
   "execution_count": 169,
   "id": "7f8a43a6",
   "metadata": {},
   "outputs": [
    {
     "data": {
      "text/plain": [
       "4099"
      ]
     },
     "execution_count": 169,
     "metadata": {},
     "output_type": "execute_result"
    }
   ],
   "source": [
    "len(vocab.get_stoi())\n",
    "vocab.lookup_indices([\".\", \",\", \"the\", \"a\", \"<unk>\"])"
   ]
  },
  {
   "cell_type": "code",
   "execution_count": null,
   "id": "2aa2e6b0",
   "metadata": {},
   "outputs": [],
   "source": [
    "data = train_data.__getitem__(5)\n",
    "ngrams = list(nltk.ngrams(tokenizer(data), 9))"
   ]
  },
  {
   "cell_type": "code",
   "execution_count": 217,
   "id": "f61c83ea",
   "metadata": {},
   "outputs": [
    {
     "data": {
      "text/plain": [
       "1446"
      ]
     },
     "execution_count": 217,
     "metadata": {},
     "output_type": "execute_result"
    }
   ],
   "source": [
    "vocab[\"sales\"]"
   ]
  },
  {
   "cell_type": "code",
   "execution_count": 280,
   "id": "7017e38e",
   "metadata": {},
   "outputs": [],
   "source": [
    "output = [x[4] for x in ngrams]\n",
    "output = np.array([vocab[token] for token in output])\n",
    "\n",
    "inputs = [x[:4] + x[5:] for x in ngrams]\n",
    "inputs = np.array([[vocab[token] for token in tokens] for tokens in inputs])"
   ]
  },
  {
   "cell_type": "code",
   "execution_count": 270,
   "id": "e1941fe7",
   "metadata": {},
   "outputs": [
    {
     "data": {
      "text/plain": [
       "(95, 8)"
      ]
     },
     "execution_count": 270,
     "metadata": {},
     "output_type": "execute_result"
    }
   ],
   "source": [
    "inputs.shape"
   ]
  },
  {
   "cell_type": "code",
   "execution_count": 283,
   "id": "32a709e8",
   "metadata": {},
   "outputs": [
    {
     "name": "stdout",
     "output_type": "stream",
     "text": [
      "Input Vector size: (8, 4099)\n",
      "Output Vector size: (4099,)\n"
     ]
    }
   ],
   "source": [
    "input_vector = np.zeros(shape=(8, vocab_size))\n",
    "print(\"Input Vector size:\", input_vector.shape)\n",
    "for i, index in enumerate(inputs[0]):\n",
    "    input_vector[i, index] = 1\n",
    "\n",
    "\n",
    "output_vector = np.zeros(shape=(vocab_size,))\n",
    "output_vector[output[0]] = 1\n",
    "print(\"Output Vector size:\", output_vector.shape)"
   ]
  },
  {
   "cell_type": "code",
   "execution_count": 286,
   "id": "c69d8ed3",
   "metadata": {},
   "outputs": [
    {
     "data": {
      "text/plain": [
       "1.0"
      ]
     },
     "execution_count": 286,
     "metadata": {},
     "output_type": "execute_result"
    }
   ],
   "source": [
    "output_vector.sum()"
   ]
  },
  {
   "cell_type": "code",
   "execution_count": 287,
   "id": "fd20536f",
   "metadata": {},
   "outputs": [
    {
     "data": {
      "text/plain": [
       "8.0"
      ]
     },
     "execution_count": 287,
     "metadata": {},
     "output_type": "execute_result"
    }
   ],
   "source": [
    "input_vector.sum()"
   ]
  },
  {
   "cell_type": "markdown",
   "id": "ea65ed6c",
   "metadata": {},
   "source": [
    "## Model"
   ]
  },
  {
   "cell_type": "code",
   "execution_count": 330,
   "id": "df627fe4",
   "metadata": {},
   "outputs": [],
   "source": [
    "class Word2Vec_Model(nn.Module):\n",
    "    def __init__(self, vocab_size: int, embed_dimension: int):\n",
    "        super(Word2Vec_Model, self).__init__()\n",
    "\n",
    "        self.linear1 = nn.Linear(in_features=vocab_size, out_features=embed_dimension)\n",
    "        self.sigmoid = nn.Sigmoid()\n",
    "        self.linear2 = nn.Linear(in_features=embed_dimension, out_features=vocab_size)\n",
    "        self.softmax = nn.Softmax(dim=-1)\n",
    "\n",
    "    def forward(self, inputs_):\n",
    "        x = self.linear1(inputs_)\n",
    "        x = self.sigmoid(x)\n",
    "        x = x.sum(axis=1)\n",
    "        x = self.linear2(x)\n",
    "        x = self.softmax(x)\n",
    "        return x"
   ]
  },
  {
   "cell_type": "code",
   "execution_count": 331,
   "id": "7b433ad0",
   "metadata": {},
   "outputs": [],
   "source": [
    "model = Word2Vec_Model(vocab_size=vocab_size, embed_dimension=300)"
   ]
  },
  {
   "cell_type": "code",
   "execution_count": 332,
   "id": "02a637f6",
   "metadata": {},
   "outputs": [
    {
     "data": {
      "text/plain": [
       "torch.Size([1, 4099])"
      ]
     },
     "execution_count": 332,
     "metadata": {},
     "output_type": "execute_result"
    }
   ],
   "source": [
    "batch = torch.tensor(input_vector, dtype=torch.float32).unsqueeze(0)\n",
    "out = model(batch)\n",
    "out.shape"
   ]
  },
  {
   "cell_type": "code",
   "execution_count": 334,
   "id": "e0ce2494",
   "metadata": {},
   "outputs": [
    {
     "data": {
      "text/plain": [
       "tensor([[1.3731e-06, 1.1676e-04, 6.8774e-07,  ..., 5.4389e-05, 2.6613e-06,\n",
       "         2.7039e-03]], grad_fn=<SoftmaxBackward>)"
      ]
     },
     "execution_count": 334,
     "metadata": {},
     "output_type": "execute_result"
    }
   ],
   "source": [
    "out"
   ]
  },
  {
   "cell_type": "code",
   "execution_count": 294,
   "id": "9c0d6f97",
   "metadata": {},
   "outputs": [
    {
     "data": {
      "text/plain": [
       "(8, 4099)"
      ]
     },
     "execution_count": 294,
     "metadata": {},
     "output_type": "execute_result"
    }
   ],
   "source": [
    "input_vector.shape"
   ]
  },
  {
   "cell_type": "code",
   "execution_count": 316,
   "id": "9ffb907e",
   "metadata": {},
   "outputs": [],
   "source": []
  },
  {
   "cell_type": "code",
   "execution_count": 306,
   "id": "9d1e80d4",
   "metadata": {},
   "outputs": [
    {
     "data": {
      "text/plain": [
       "torch.Size([1, 4099])"
      ]
     },
     "execution_count": 306,
     "metadata": {},
     "output_type": "execute_result"
    }
   ],
   "source": [
    "batch.sum(axis=-2).shape"
   ]
  },
  {
   "cell_type": "code",
   "execution_count": 315,
   "id": "4f058b3c",
   "metadata": {},
   "outputs": [
    {
     "data": {
      "text/plain": [
       "tensor([[[0., 0., 0.,  ..., 0., 0., 0.],\n",
       "         [0., 0., 0.,  ..., 0., 0., 0.],\n",
       "         [0., 0., 0.,  ..., 0., 0., 0.],\n",
       "         ...,\n",
       "         [0., 0., 0.,  ..., 0., 0., 0.],\n",
       "         [0., 0., 1.,  ..., 0., 0., 0.],\n",
       "         [0., 0., 0.,  ..., 0., 0., 0.]]], dtype=torch.float64)"
      ]
     },
     "execution_count": 315,
     "metadata": {},
     "output_type": "execute_result"
    }
   ],
   "source": [
    "batch"
   ]
  },
  {
   "cell_type": "code",
   "execution_count": null,
   "id": "d3333b81",
   "metadata": {},
   "outputs": [],
   "source": []
  },
  {
   "cell_type": "code",
   "execution_count": 24,
   "id": "77357879",
   "metadata": {},
   "outputs": [],
   "source": [
    "def data_process(raw_text_iter):\n",
    "    \"\"\"Converts raw text into a flat Tensor.\"\"\"\n",
    "    data = [\n",
    "        torch.tensor(vocab(tokenizer(item)), dtype=torch.long) for item in raw_text_iter\n",
    "    ]\n",
    "    return torch.cat(tuple(filter(lambda t: t.numel() > 0, data)))\n",
    "\n",
    "\n",
    "# train_iter was \"consumed\" by the process of building the vocab,\n",
    "# so we have to create it again\n",
    "train_iter, val_iter, test_iter = WikiText2()\n",
    "train_data = data_process(train_iter)\n",
    "val_data = data_process(val_iter)\n",
    "test_data = data_process(test_iter)"
   ]
  },
  {
   "cell_type": "code",
   "execution_count": 91,
   "id": "c471b423",
   "metadata": {},
   "outputs": [],
   "source": [
    "for batch in train_data:\n",
    "    break"
   ]
  },
  {
   "cell_type": "code",
   "execution_count": 25,
   "id": "0f45b48e",
   "metadata": {},
   "outputs": [
    {
     "data": {
      "text/plain": [
       "(torch.Size([2049990]), torch.Size([214417]), torch.Size([241859]))"
      ]
     },
     "execution_count": 25,
     "metadata": {},
     "output_type": "execute_result"
    }
   ],
   "source": [
    "train_data.shape, val_data.shape, test_data.shape"
   ]
  },
  {
   "cell_type": "code",
   "execution_count": 27,
   "id": "a4f42605",
   "metadata": {},
   "outputs": [
    {
     "data": {
      "text/plain": [
       "device(type='cpu')"
      ]
     },
     "execution_count": 27,
     "metadata": {},
     "output_type": "execute_result"
    }
   ],
   "source": [
    "device = torch.device(\"cuda\" if torch.cuda.is_available() else \"cpu\")\n",
    "device"
   ]
  }
 ],
 "metadata": {
  "environment": {
   "name": "tf2-gpu.2-3.m74",
   "type": "gcloud",
   "uri": "gcr.io/deeplearning-platform-release/tf2-gpu.2-3:m74"
  },
  "kernelspec": {
   "display_name": "Python 3",
   "language": "python",
   "name": "python3"
  },
  "language_info": {
   "codemirror_mode": {
    "name": "ipython",
    "version": 3
   },
   "file_extension": ".py",
   "mimetype": "text/x-python",
   "name": "python",
   "nbconvert_exporter": "python",
   "pygments_lexer": "ipython3",
   "version": "3.7.10"
  }
 },
 "nbformat": 4,
 "nbformat_minor": 5
}
