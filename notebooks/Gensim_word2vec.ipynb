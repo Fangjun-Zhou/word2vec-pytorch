{
 "cells": [
  {
   "cell_type": "code",
   "execution_count": 1,
   "id": "0cfc61b3",
   "metadata": {},
   "outputs": [],
   "source": [
    "%load_ext autoreload\n",
    "%autoreload 2\n",
    "%load_ext lab_black"
   ]
  },
  {
   "cell_type": "code",
   "execution_count": 4,
   "id": "83b95314",
   "metadata": {},
   "outputs": [],
   "source": [
    "import numpy as np\n",
    "import pandas as pd\n",
    "import nltk\n",
    "from nltk.tokenize import sent_tokenize\n",
    "\n",
    "# nltk.download(\"punkt\")\n",
    "import sys\n",
    "\n",
    "sys.path.append(\"../\")\n",
    "\n",
    "\n",
    "from torchtext.datasets import WikiText2\n",
    "\n",
    "from scipy.spatial.distance import cosine"
   ]
  },
  {
   "cell_type": "code",
   "execution_count": 7,
   "id": "3705b96b",
   "metadata": {},
   "outputs": [
    {
     "data": {
      "text/plain": [
       "86861"
      ]
     },
     "execution_count": 7,
     "metadata": {},
     "output_type": "execute_result"
    }
   ],
   "source": [
    "data_iter = WikiText2(root=\"../data/\", split=(\"train\"))\n",
    "\n",
    "\n",
    "def get_sent_tokens_from_iterator(data_iter):\n",
    "    all_sent_tokens = []\n",
    "    for line in data_iter:\n",
    "        sent_tokens = []\n",
    "        line_lower = line.lower()\n",
    "        sentences = sent_tokenize(line_lower)\n",
    "        for sent in sentences:\n",
    "            sent_tokens.append(sent.split())\n",
    "\n",
    "        if len(sent_tokens) > 0:\n",
    "            all_sent_tokens.extend(sent_tokens)\n",
    "    return all_sent_tokens\n",
    "\n",
    "\n",
    "sent_tokens = get_sent_tokens_from_iterator(data_iter)\n",
    "len(sent_tokens)"
   ]
  },
  {
   "cell_type": "code",
   "execution_count": 8,
   "id": "e17273b8",
   "metadata": {},
   "outputs": [
    {
     "data": {
      "text/plain": [
       "2.055104"
      ]
     },
     "execution_count": 8,
     "metadata": {},
     "output_type": "execute_result"
    }
   ],
   "source": [
    "n_tokens = 0\n",
    "for x in sent_tokens:\n",
    "    n_tokens += len(x)\n",
    "\n",
    "n_tokens / 1000000"
   ]
  },
  {
   "cell_type": "markdown",
   "id": "73c22493",
   "metadata": {},
   "source": [
    "## Training Word2Vec with Gensim"
   ]
  },
  {
   "cell_type": "code",
   "execution_count": 13,
   "id": "a41c2330",
   "metadata": {},
   "outputs": [],
   "source": [
    "from gensim.models import Word2Vec\n",
    "\n",
    "# https://radimrehurek.com/gensim/models/word2vec.html#pretrained-models"
   ]
  },
  {
   "cell_type": "code",
   "execution_count": 21,
   "id": "d9bbed04",
   "metadata": {},
   "outputs": [
    {
     "data": {
      "text/plain": [
       "44667196.0"
      ]
     },
     "execution_count": 21,
     "metadata": {},
     "output_type": "execute_result"
    }
   ],
   "source": [
    "model = Word2Vec(\n",
    "    sentences=sent_tokens,\n",
    "    vector_size=300,\n",
    "    window=4,\n",
    "    min_count=50,\n",
    "    workers=4,\n",
    "    sg=0, #skipgram\n",
    "    hs=0, #hierarchical softmax\n",
    "    cbow_mean=1,\n",
    "    alpha=0.025\n",
    "    min_alpha=0.005,\n",
    "    negative=0,\n",
    "    ns_exponent=None,\n",
    "    epochs=5,\n",
    ")\n"
   ]
  },
  {
   "cell_type": "code",
   "execution_count": 44,
   "id": "2a65ad4c",
   "metadata": {},
   "outputs": [],
   "source": [
    "model = Word2Vec(\n",
    "    sentences=sent_tokens,\n",
    "    vector_size=300,\n",
    "    alpha=0.025,\n",
    "    window=4,\n",
    "    min_count=50,\n",
    "    max_vocab_size=None,\n",
    "    sample=0,\n",
    "    seed=1,\n",
    "    workers=3,\n",
    "    min_alpha=0.005,\n",
    "    sg=0,\n",
    "    hs=1,\n",
    "    negative=0,\n",
    "    ns_exponent=0.0,\n",
    "    cbow_mean=1,\n",
    "    epochs=5,\n",
    "    null_word=0,\n",
    "    trim_rule=None,\n",
    "    sorted_vocab=1,\n",
    "    batch_words=10000,\n",
    "    compute_loss=False,\n",
    "    callbacks=(),\n",
    "    comment=None,\n",
    "    max_final_vocab=None,\n",
    ")"
   ]
  },
  {
   "cell_type": "code",
   "execution_count": 45,
   "id": "734008a3",
   "metadata": {},
   "outputs": [
    {
     "data": {
      "text/plain": [
       "[('mother', 0.8185541033744812),\n",
       " ('daughter', 0.7746013402938843),\n",
       " ('wife', 0.7724822163581848),\n",
       " ('brother', 0.7704977989196777),\n",
       " ('son', 0.735470712184906),\n",
       " ('successor', 0.6820389032363892),\n",
       " ('husband', 0.6800978779792786),\n",
       " ('opponent', 0.6787068247795105),\n",
       " ('friend', 0.6636711955070496),\n",
       " ('fate', 0.6383050680160522)]"
      ]
     },
     "execution_count": 45,
     "metadata": {},
     "output_type": "execute_result"
    }
   ],
   "source": [
    "model.wv.most_similar(\"father\", topn=10)"
   ]
  },
  {
   "cell_type": "code",
   "execution_count": 36,
   "id": "2db5f7ba",
   "metadata": {},
   "outputs": [],
   "source": [
    "king_v = model.wv[\"king\"]\n",
    "queen_v = model.wv[\"queen\"]\n",
    "woman_v = model.wv[\"woman\"]\n",
    "man_v = model.wv[\"man\"]\n",
    "\n",
    "king_v = king_v / ((king_v ** 2).sum() ** (1 / 2))\n",
    "queen_v = queen_v / ((queen_v ** 2).sum() ** (1 / 2))\n",
    "woman_v = woman_v / ((woman_v ** 2).sum() ** (1 / 2))\n",
    "man_v = man_v / ((man_v ** 2).sum() ** (1 / 2))"
   ]
  },
  {
   "cell_type": "code",
   "execution_count": 59,
   "id": "5e5db81b",
   "metadata": {},
   "outputs": [
    {
     "data": {
      "text/plain": [
       "0.9999999"
      ]
     },
     "execution_count": 59,
     "metadata": {},
     "output_type": "execute_result"
    }
   ],
   "source": [
    "(king_v ** 2).sum()"
   ]
  },
  {
   "cell_type": "code",
   "execution_count": 63,
   "id": "f6ef2909",
   "metadata": {},
   "outputs": [],
   "source": [
    "new_v = (king_v - man_v) + woman_v"
   ]
  },
  {
   "cell_type": "code",
   "execution_count": 62,
   "id": "d8e7216e",
   "metadata": {},
   "outputs": [
    {
     "data": {
      "text/plain": [
       "0.5770814418792725"
      ]
     },
     "execution_count": 62,
     "metadata": {},
     "output_type": "execute_result"
    }
   ],
   "source": [
    "cosine(new_v, queen_v)"
   ]
  },
  {
   "cell_type": "code",
   "execution_count": null,
   "id": "a1f34992",
   "metadata": {},
   "outputs": [],
   "source": []
  }
 ],
 "metadata": {
  "environment": {
   "name": "tf2-gpu.2-3.m74",
   "type": "gcloud",
   "uri": "gcr.io/deeplearning-platform-release/tf2-gpu.2-3:m74"
  },
  "kernelspec": {
   "display_name": "Python 3",
   "language": "python",
   "name": "python3"
  },
  "language_info": {
   "codemirror_mode": {
    "name": "ipython",
    "version": 3
   },
   "file_extension": ".py",
   "mimetype": "text/x-python",
   "name": "python",
   "nbconvert_exporter": "python",
   "pygments_lexer": "ipython3",
   "version": "3.7.10"
  }
 },
 "nbformat": 4,
 "nbformat_minor": 5
}
