{
 "cells": [
  {
   "cell_type": "code",
   "execution_count": 4,
   "id": "64a2bfb2",
   "metadata": {},
   "outputs": [
    {
     "name": "stdout",
     "output_type": "stream",
     "text": [
      "The autoreload extension is already loaded. To reload it, use:\n",
      "  %reload_ext autoreload\n",
      "The lab_black extension is already loaded. To reload it, use:\n",
      "  %reload_ext lab_black\n"
     ]
    }
   ],
   "source": [
    "%load_ext autoreload\n",
    "%autoreload 2\n",
    "%load_ext lab_black"
   ]
  },
  {
   "cell_type": "code",
   "execution_count": 49,
   "id": "82e95b62",
   "metadata": {},
   "outputs": [],
   "source": [
    "import numpy as np\n",
    "import pandas as pd\n",
    "import nltk\n",
    "from nltk.tokenize import sent_tokenize\n",
    "\n",
    "# nltk.download(\"punkt\")\n",
    "import sys\n",
    "\n",
    "sys.path.append(\"../\")\n",
    "\n",
    "\n",
    "from utils.dataset import CBOW_Dataset\n",
    "\n",
    "from scipy.spatial.distance import cosine"
   ]
  },
  {
   "cell_type": "code",
   "execution_count": 6,
   "id": "daac08c6",
   "metadata": {},
   "outputs": [],
   "source": [
    "data = CBOW_Dataset(\"WikiText2\", \"train\", \"../data/\")\n",
    "data_iter = data.data_iter"
   ]
  },
  {
   "cell_type": "code",
   "execution_count": 7,
   "id": "58a0aae5",
   "metadata": {},
   "outputs": [
    {
     "data": {
      "text/plain": [
       "86861"
      ]
     },
     "execution_count": 7,
     "metadata": {},
     "output_type": "execute_result"
    }
   ],
   "source": [
    "def get_sent_tokens_from_iterator(data_iter):\n",
    "    all_sent_tokens = []\n",
    "    for line in data_iter:\n",
    "        sent_tokens = []\n",
    "        line_lower = line.lower()\n",
    "        sentences = sent_tokenize(line_lower)\n",
    "        for sent in sentences:\n",
    "            sent_tokens.append(sent.split())\n",
    "\n",
    "        if len(sent_tokens) > 0:\n",
    "            all_sent_tokens.extend(sent_tokens)\n",
    "    return all_sent_tokens\n",
    "\n",
    "\n",
    "sent_tokens = get_sent_tokens_from_iterator(data_iter)\n",
    "len(sent_tokens)"
   ]
  },
  {
   "cell_type": "code",
   "execution_count": 14,
   "id": "93700748",
   "metadata": {},
   "outputs": [
    {
     "data": {
      "text/plain": [
       "2.055104"
      ]
     },
     "execution_count": 14,
     "metadata": {},
     "output_type": "execute_result"
    }
   ],
   "source": [
    "n_tokens = 0\n",
    "for x in sent_tokens:\n",
    "    n_tokens += len(x)\n",
    "\n",
    "n_tokens / 1000000"
   ]
  },
  {
   "cell_type": "markdown",
   "id": "0c5e4e7f",
   "metadata": {},
   "source": [
    "## Training Word2Vec with Gensim"
   ]
  },
  {
   "cell_type": "code",
   "execution_count": 3,
   "id": "907079f8",
   "metadata": {},
   "outputs": [],
   "source": [
    "from gensim.models import Word2Vec\n",
    "\n",
    "# https://radimrehurek.com/gensim/models/word2vec.html#pretrained-models"
   ]
  },
  {
   "cell_type": "code",
   "execution_count": 21,
   "id": "6abf1b51",
   "metadata": {},
   "outputs": [
    {
     "data": {
      "text/plain": [
       "44667196.0"
      ]
     },
     "execution_count": 21,
     "metadata": {},
     "output_type": "execute_result"
    }
   ],
   "source": [
    "model = Word2Vec(\n",
    "    sentences=sent_tokens,\n",
    "    vector_size=300,\n",
    "    window=4,\n",
    "    min_count=50,\n",
    "    workers=4,\n",
    "    sg=1,\n",
    "    hs=1,\n",
    "    epochs=5,\n",
    "    compute_loss=True,\n",
    ")\n",
    "model.get_latest_training_loss()\n",
    "# model.save(\"word2vec.model\")"
   ]
  },
  {
   "cell_type": "code",
   "execution_count": 22,
   "id": "ea97dca8",
   "metadata": {},
   "outputs": [
    {
     "data": {
      "text/plain": [
       "44667196.0"
      ]
     },
     "execution_count": 22,
     "metadata": {},
     "output_type": "execute_result"
    }
   ],
   "source": [
    "model.get_latest_training_loss()"
   ]
  },
  {
   "cell_type": "code",
   "execution_count": 82,
   "id": "9341a7ad",
   "metadata": {},
   "outputs": [
    {
     "data": {
      "text/plain": [
       "[('4', 0.7374173998832703),\n",
       " ('3', 0.7292033433914185),\n",
       " ('2', 0.7034738063812256),\n",
       " ('6', 0.6723881959915161),\n",
       " ('5', 0.638543963432312),\n",
       " ('8', 0.6239730715751648),\n",
       " ('7', 0.6155374050140381),\n",
       " ('9', 0.6041812896728516),\n",
       " ('0', 0.5962584018707275),\n",
       " ('10', 0.5761900544166565)]"
      ]
     },
     "execution_count": 82,
     "metadata": {},
     "output_type": "execute_result"
    }
   ],
   "source": [
    "model.wv.most_similar(\"1\", topn=10)"
   ]
  },
  {
   "cell_type": "code",
   "execution_count": 60,
   "id": "a245932f",
   "metadata": {},
   "outputs": [],
   "source": [
    "king_v = model.wv[\"king\"]\n",
    "queen_v = model.wv[\"queen\"]\n",
    "woman_v = model.wv[\"woman\"]\n",
    "man_v = model.wv[\"man\"]\n",
    "\n",
    "king_v = king_v / ((king_v ** 2).sum() ** (1 / 2))\n",
    "queen_v = queen_v / ((queen_v ** 2).sum() ** (1 / 2))\n",
    "woman_v = woman_v / ((woman_v ** 2).sum() ** (1 / 2))\n",
    "man_v = man_v / ((man_v ** 2).sum() ** (1 / 2))"
   ]
  },
  {
   "cell_type": "code",
   "execution_count": 59,
   "id": "f4103481",
   "metadata": {},
   "outputs": [
    {
     "data": {
      "text/plain": [
       "0.9999999"
      ]
     },
     "execution_count": 59,
     "metadata": {},
     "output_type": "execute_result"
    }
   ],
   "source": [
    "(king_v ** 2).sum()"
   ]
  },
  {
   "cell_type": "code",
   "execution_count": 63,
   "id": "2f3be177",
   "metadata": {},
   "outputs": [],
   "source": [
    "new_v = (king_v - man_v) + woman_v"
   ]
  },
  {
   "cell_type": "code",
   "execution_count": 62,
   "id": "77856b3e",
   "metadata": {},
   "outputs": [
    {
     "data": {
      "text/plain": [
       "0.5770814418792725"
      ]
     },
     "execution_count": 62,
     "metadata": {},
     "output_type": "execute_result"
    }
   ],
   "source": [
    "cosine(new_v, queen_v)"
   ]
  },
  {
   "cell_type": "code",
   "execution_count": null,
   "id": "f90a18b9",
   "metadata": {},
   "outputs": [],
   "source": []
  }
 ],
 "metadata": {
  "environment": {
   "name": "tf2-gpu.2-3.m74",
   "type": "gcloud",
   "uri": "gcr.io/deeplearning-platform-release/tf2-gpu.2-3:m74"
  },
  "kernelspec": {
   "display_name": "Python 3",
   "language": "python",
   "name": "python3"
  },
  "language_info": {
   "codemirror_mode": {
    "name": "ipython",
    "version": 3
   },
   "file_extension": ".py",
   "mimetype": "text/x-python",
   "name": "python",
   "nbconvert_exporter": "python",
   "pygments_lexer": "ipython3",
   "version": "3.7.10"
  }
 },
 "nbformat": 4,
 "nbformat_minor": 5
}
