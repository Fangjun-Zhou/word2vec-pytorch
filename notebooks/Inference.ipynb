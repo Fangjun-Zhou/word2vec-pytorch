{
 "cells": [
  {
   "cell_type": "code",
   "execution_count": 136,
   "id": "c321621d",
   "metadata": {},
   "outputs": [
    {
     "name": "stdout",
     "output_type": "stream",
     "text": [
      "The autoreload extension is already loaded. To reload it, use:\n",
      "  %reload_ext autoreload\n",
      "The lab_black extension is already loaded. To reload it, use:\n",
      "  %reload_ext lab_black\n"
     ]
    }
   ],
   "source": [
    "%load_ext autoreload\n",
    "%autoreload 2\n",
    "%load_ext lab_black"
   ]
  },
  {
   "cell_type": "code",
   "execution_count": 2,
   "id": "9632fb2e",
   "metadata": {},
   "outputs": [],
   "source": [
    "import numpy as np\n",
    "import pandas as pd\n",
    "import sys\n",
    "import yaml\n",
    "import torch\n",
    "import torch.nn as nn\n",
    "import torch.optim as optim\n",
    "import torchtext\n",
    "import matplotlib.pyplot as plt\n",
    "from torch.utils.data import DataLoader\n",
    "from torch.utils.data import DataLoader\n",
    "from torchtext.data.utils import get_tokenizer, ngrams_iterator\n",
    "\n",
    "import nltk\n",
    "\n",
    "sys.path.append(\"../\")\n",
    "\n",
    "from utils.model import CBOW_Model\n",
    "from utils.dataset import CBOW_Dataset, SkipGram_Dataset\n",
    "from utils.constants import MIN_WORD_FREQUENCY, EMBED_DIMENSION\n",
    "from utils.trainer import Trainer"
   ]
  },
  {
   "cell_type": "code",
   "execution_count": 3,
   "id": "dc23a120",
   "metadata": {},
   "outputs": [
    {
     "data": {
      "text/plain": [
       "{'dataset': 'WikiText2',\n",
       " 'data_dir': 'data/',\n",
       " 'train_batch_size': 1000,\n",
       " 'val_batch_size': 1000,\n",
       " 'optimizer': 'Adam',\n",
       " 'learning_rate': 0.025,\n",
       " 'epochs': 10,\n",
       " 'train_steps': None,\n",
       " 'val_steps': None,\n",
       " 'checkpoint_frequency': None,\n",
       " 'model_dir': 'weights/cbow_adam_WikiText2_embed_layer'}"
      ]
     },
     "execution_count": 3,
     "metadata": {},
     "output_type": "execute_result"
    }
   ],
   "source": [
    "with open(\"../config.yaml\", \"r\") as stream:\n",
    "    config = yaml.safe_load(stream)\n",
    "\n",
    "config"
   ]
  },
  {
   "cell_type": "code",
   "execution_count": 29,
   "id": "7445e207",
   "metadata": {},
   "outputs": [],
   "source": [
    "folder = \"weights/cbow_adam_WikiText2_embed_layer\"\n",
    "device = torch.device(\"cuda\" if torch.cuda.is_available() else \"cpu\")\n",
    "\n",
    "model = torch.load(f\"../{folder}/cbow_model.pt\", map_location=device)\n",
    "vocab = torch.load(f\"../{folder}/vocab.pt\")"
   ]
  },
  {
   "cell_type": "code",
   "execution_count": null,
   "id": "7ed44544",
   "metadata": {},
   "outputs": [],
   "source": []
  },
  {
   "cell_type": "code",
   "execution_count": null,
   "id": "904b646e",
   "metadata": {},
   "outputs": [],
   "source": []
  },
  {
   "cell_type": "code",
   "execution_count": 30,
   "id": "a9e77163",
   "metadata": {},
   "outputs": [
    {
     "data": {
      "text/plain": [
       "(300, 4122)"
      ]
     },
     "execution_count": 30,
     "metadata": {},
     "output_type": "execute_result"
    }
   ],
   "source": [
    "# first matrix\n",
    "embeddings_raw = list(model.parameters())[0]\n",
    "embeddings_raw = embeddings_raw.cpu().detach().numpy().T\n",
    "embeddings = embeddings_raw / ((embeddings_raw ** 2).sum(axis=0) ** (1 / 2))\n",
    "embeddings.shape"
   ]
  },
  {
   "cell_type": "code",
   "execution_count": 31,
   "id": "9f7edfcc",
   "metadata": {},
   "outputs": [
    {
     "name": "stdout",
     "output_type": "stream",
     "text": [
      "torch.Size([4122, 300])\n",
      "torch.Size([4122, 300])\n",
      "torch.Size([4122])\n"
     ]
    }
   ],
   "source": [
    "for parameters in model.parameters():\n",
    "    print(parameters.shape)"
   ]
  },
  {
   "cell_type": "code",
   "execution_count": null,
   "id": "95a91521",
   "metadata": {},
   "outputs": [],
   "source": []
  },
  {
   "cell_type": "markdown",
   "id": "715b3149",
   "metadata": {},
   "source": [
    "## Similar words"
   ]
  },
  {
   "cell_type": "code",
   "execution_count": 33,
   "id": "ecbb6522",
   "metadata": {},
   "outputs": [
    {
     "name": "stdout",
     "output_type": "stream",
     "text": [
      "father\n",
      "\n",
      "father: 1.000\n",
      "mother: 0.309\n",
      "wife: 0.264\n",
      "son: 0.255\n",
      "parents: 0.238\n",
      "daughter: 0.231\n",
      "marriage: 0.231\n",
      "brother: 0.227\n",
      "sister: 0.215\n",
      "previous: 0.213\n"
     ]
    }
   ],
   "source": [
    "main_word_id = vocab[\"father\"]\n",
    "\n",
    "word_vec = embeddings[:, main_word_id]\n",
    "word_vec = np.reshape(word_vec, (1, len(word_vec)))\n",
    "\n",
    "dists = np.matmul(word_vec, embeddings).flatten()\n",
    "\n",
    "print(vocab.lookup_token(main_word_id))\n",
    "print()\n",
    "top5 = np.argsort(-dists)[:10]\n",
    "\n",
    "for word_id in top5:\n",
    "    print(\"{}: {:.3f}\".format(vocab.lookup_token(word_id), dists[word_id]))"
   ]
  },
  {
   "cell_type": "code",
   "execution_count": 94,
   "id": "71b1655e",
   "metadata": {},
   "outputs": [
    {
     "name": "stdout",
     "output_type": "stream",
     "text": [
      "father\n",
      "\n",
      "father: 1.000\n",
      "mother: 0.385\n",
      "wife: 0.366\n",
      "son: 0.358\n",
      "parents: 0.353\n",
      "friend: 0.347\n",
      "brother: 0.336\n",
      "daughter: 0.328\n",
      "death: 0.318\n",
      "hornung: 0.307\n"
     ]
    }
   ],
   "source": [
    "main_word_id = vocab[\"father\"]\n",
    "\n",
    "word_vec = embeddings[:, main_word_id]\n",
    "word_vec = np.reshape(word_vec, (1, len(word_vec)))\n",
    "\n",
    "dists = np.matmul(word_vec, embeddings).flatten()\n",
    "\n",
    "print(vocab.lookup_token(main_word_id))\n",
    "print()\n",
    "top5 = np.argsort(-dists)[:10]\n",
    "\n",
    "for word_id in top5:\n",
    "    print(\"{}: {:.3f}\".format(vocab.lookup_token(word_id), dists[word_id]))"
   ]
  },
  {
   "cell_type": "code",
   "execution_count": 98,
   "id": "ffcb7754",
   "metadata": {},
   "outputs": [],
   "source": [
    "class CBOW_Model(nn.Module):\n",
    "    def __init__(self, vocab_size: int):\n",
    "        super(CBOW_Model, self).__init__()\n",
    "        self.embeddings = nn.Embedding(\n",
    "            num_embeddings=vocab_size,\n",
    "            embedding_dim=EMBED_DIMENSION,\n",
    "        )\n",
    "        self.linear2 = nn.Linear(\n",
    "            in_features=EMBED_DIMENSION,\n",
    "            out_features=vocab_size,\n",
    "        )\n",
    "\n",
    "    def forward(self, inputs_):\n",
    "        x = self.linear1(inputs_)\n",
    "        x = x.mean(axis=1)\n",
    "        x = self.linear2(x)\n",
    "        return x"
   ]
  },
  {
   "cell_type": "markdown",
   "id": "7afbbee1",
   "metadata": {},
   "source": [
    "# Clustering"
   ]
  },
  {
   "cell_type": "code",
   "execution_count": 43,
   "id": "2ff56193",
   "metadata": {},
   "outputs": [],
   "source": [
    "token_tuples = [(token, token_id) for (token, token_id) in vocab.get_stoi().items()]\n",
    "token_tuples = sorted(token_tuples, key=lambda tup: tup[1])\n",
    "tokens = [token for (token, token_id) in token_tuples]\n",
    "\n",
    "df = pd.DataFrame(embeddings.T)\n",
    "df.index = tokens"
   ]
  },
  {
   "cell_type": "code",
   "execution_count": 46,
   "id": "03ba62dc",
   "metadata": {},
   "outputs": [],
   "source": [
    "from sklearn.cluster import DBSCAN\n",
    "\n",
    "db_scan = DBSCAN(eps=0.6, metric=\"cosine\", min_samples=5)"
   ]
  },
  {
   "cell_type": "code",
   "execution_count": 47,
   "id": "7f639df0",
   "metadata": {},
   "outputs": [
    {
     "data": {
      "text/plain": [
       "-1     3810\n",
       " 0      115\n",
       " 9       45\n",
       " 6       21\n",
       " 2       19\n",
       " 1       13\n",
       " 12      13\n",
       " 11      12\n",
       " 8        9\n",
       " 5        8\n",
       " 4        8\n",
       " 17       6\n",
       " 18       6\n",
       " 3        6\n",
       " 15       6\n",
       " 16       5\n",
       " 13       5\n",
       " 10       5\n",
       " 14       5\n",
       " 7        5\n",
       "dtype: int64"
      ]
     },
     "execution_count": 47,
     "metadata": {},
     "output_type": "execute_result"
    }
   ],
   "source": [
    "res = db_scan.fit_predict(df)\n",
    "preds = pd.Series(res)\n",
    "preds.index = tokens\n",
    "preds.value_counts()"
   ]
  },
  {
   "cell_type": "code",
   "execution_count": 62,
   "id": "52882b7b",
   "metadata": {},
   "outputs": [
    {
     "data": {
      "text/plain": [
       "singles      15\n",
       "charts       15\n",
       "chart        15\n",
       "billboard    15\n",
       "hot          15\n",
       "debuted      15\n",
       "dtype: int64"
      ]
     },
     "execution_count": 62,
     "metadata": {},
     "output_type": "execute_result"
    }
   ],
   "source": [
    "preds[preds == 15]"
   ]
  },
  {
   "cell_type": "markdown",
   "id": "e82636e1",
   "metadata": {},
   "source": [
    "## Visualization"
   ]
  },
  {
   "cell_type": "code",
   "execution_count": 63,
   "id": "47c82bed",
   "metadata": {},
   "outputs": [],
   "source": [
    "from sklearn.decomposition import PCA"
   ]
  },
  {
   "cell_type": "code",
   "execution_count": 86,
   "id": "7031ea68",
   "metadata": {},
   "outputs": [],
   "source": [
    "token_tuples = [(token, token_id) for (token, token_id) in vocab.get_stoi().items()]\n",
    "token_tuples = sorted(token_tuples, key=lambda tup: tup[1])\n",
    "tokens = [token for (token, token_id) in token_tuples]\n",
    "\n",
    "df = pd.DataFrame(embeddings.T)\n",
    "df.index = tokens"
   ]
  },
  {
   "cell_type": "code",
   "execution_count": 71,
   "id": "47869331",
   "metadata": {},
   "outputs": [
    {
     "data": {
      "text/plain": [
       "array([0.02268678, 0.0191039 ], dtype=float32)"
      ]
     },
     "execution_count": 71,
     "metadata": {},
     "output_type": "execute_result"
    }
   ],
   "source": [
    "pca = PCA(n_components=2)\n",
    "\n",
    "df_transformed = pca.fit_transform(df)\n",
    "df_transformed = pd.DataFrame(df_transformed)\n",
    "df_transformed.index = tokens\n",
    "\n",
    "pca.explained_variance_"
   ]
  },
  {
   "cell_type": "code",
   "execution_count": null,
   "id": "dcbf7849",
   "metadata": {},
   "outputs": [],
   "source": []
  },
  {
   "cell_type": "code",
   "execution_count": 72,
   "id": "8df1b9a2",
   "metadata": {},
   "outputs": [
    {
     "data": {
      "text/plain": [
       "<matplotlib.collections.PathCollection at 0x7f1da1473150>"
      ]
     },
     "execution_count": 72,
     "metadata": {},
     "output_type": "execute_result"
    },
    {
     "data": {
      "image/png": "[encoded data removed]",
      "text/plain": [
       "<Figure size 720x720 with 1 Axes>"
      ]
     },
     "metadata": {
      "needs_background": "light"
     },
     "output_type": "display_data"
    }
   ],
   "source": [
    "plt.figure(figsize=[10, 10])\n",
    "plt.scatter(df_transformed[0], df_transformed[1], s=3)"
   ]
  },
  {
   "cell_type": "code",
   "execution_count": 92,
   "id": "1dfa3d27",
   "metadata": {},
   "outputs": [],
   "source": [
    "from sklearn.manifold import TSNE\n",
    "\n",
    "tsne = TSNE(n_components=2, early_exaggeration=50)\n",
    "\n",
    "df_transformed = tsne.fit_transform(df)\n",
    "df_transformed = pd.DataFrame(df_transformed)\n",
    "df_transformed.index = tokens"
   ]
  },
  {
   "cell_type": "code",
   "execution_count": 93,
   "id": "e27937e8",
   "metadata": {},
   "outputs": [
    {
     "data": {
      "text/plain": [
       "<matplotlib.collections.PathCollection at 0x7f1da1bc2d50>"
      ]
     },
     "execution_count": 93,
     "metadata": {},
     "output_type": "execute_result"
    },
    {
     "data": {
      "image/png": "[encoded data removed]",
      "text/plain": [
       "<Figure size 720x720 with 1 Axes>"
      ]
     },
     "metadata": {
      "needs_background": "light"
     },
     "output_type": "display_data"
    }
   ],
   "source": [
    "plt.figure(figsize=[10, 10])\n",
    "plt.scatter(df_transformed[0], df_transformed[1], s=3)"
   ]
  },
  {
   "cell_type": "code",
   "execution_count": 89,
   "id": "b6965f7f",
   "metadata": {},
   "outputs": [],
   "source": [
    "import plotly\n",
    "import plotly.express as px\n",
    "from sklearn.decomposition import PCA\n",
    "\n",
    "\n",
    "fig = px.scatter(df_transformed, x=0, y=1, text=df_transformed.index)\n",
    "fig.write_html(\"file.html\")"
   ]
  },
  {
   "cell_type": "markdown",
   "id": "af00306f",
   "metadata": {},
   "source": [
    "# Similarity"
   ]
  },
  {
   "cell_type": "markdown",
   "id": "62eca07b",
   "metadata": {},
   "source": [
    "### 1. Over dimensions"
   ]
  },
  {
   "cell_type": "code",
   "execution_count": 34,
   "id": "81f3ae12",
   "metadata": {},
   "outputs": [],
   "source": [
    "token_tuples = [(token, token_id) for (token, token_id) in vocab.get_stoi().items()]\n",
    "token_tuples = sorted(token_tuples, key=lambda tup: tup[1])\n",
    "tokens = [token for (token, token_id) in token_tuples]\n",
    "token_ids = [token_id for (token, token_id) in token_tuples]\n",
    "\n",
    "tokens = np.array(tokens)"
   ]
  },
  {
   "cell_type": "code",
   "execution_count": 37,
   "id": "1be22386",
   "metadata": {},
   "outputs": [],
   "source": [
    "feature_id = 5\n",
    "\n",
    "feature_embed = embeddings[feature_id, :]"
   ]
  },
  {
   "cell_type": "code",
   "execution_count": 38,
   "id": "e4dab5c0",
   "metadata": {},
   "outputs": [
    {
     "data": {
      "text/plain": [
       "array(['proved', 'completion', 'increasing', 'generated', 'franchise',\n",
       "       'connection', 'genetic', 'banned', 'fell', 'stood'], dtype='<U15')"
      ]
     },
     "execution_count": 38,
     "metadata": {},
     "output_type": "execute_result"
    }
   ],
   "source": [
    "top_ids = np.argsort(-feature_embed)[:10]\n",
    "tokens[top_ids]"
   ]
  },
  {
   "cell_type": "markdown",
   "id": "bd472fa6",
   "metadata": {},
   "source": [
    "### 2. Equation"
   ]
  },
  {
   "cell_type": "code",
   "execution_count": 20,
   "id": "c555f964",
   "metadata": {},
   "outputs": [
    {
     "name": "stdout",
     "output_type": "stream",
     "text": [
      "do: 0.915\n",
      "leading: 0.817\n",
      "did: 0.455\n",
      "does: 0.428\n",
      "1939: 0.349\n"
     ]
    }
   ],
   "source": [
    "emb1 = embeddings[:, vocab[\"leading\"]]\n",
    "emb2 = embeddings[:, vocab[\"lead\"]]\n",
    "emb3 = embeddings[:, vocab[\"do\"]]\n",
    "\n",
    "emb4 = emb1 - emb2 + emb3\n",
    "emb4 = np.reshape(emb4, (1, len(emb4)))\n",
    "dists = np.matmul(emb4, embeddings).flatten()\n",
    "\n",
    "top5 = np.argsort(-dists)[:5]\n",
    "\n",
    "for word_id in top5:\n",
    "    print(\"{}: {:.3f}\".format(vocab.lookup_token(word_id), dists[word_id]))"
   ]
  },
  {
   "cell_type": "code",
   "execution_count": 85,
   "id": "0416a9fe",
   "metadata": {},
   "outputs": [],
   "source": []
  },
  {
   "cell_type": "code",
   "execution_count": null,
   "id": "e0b843a9",
   "metadata": {},
   "outputs": [],
   "source": []
  },
  {
   "cell_type": "code",
   "execution_count": null,
   "id": "81ae5a21",
   "metadata": {},
   "outputs": [],
   "source": []
  },
  {
   "cell_type": "code",
   "execution_count": 3,
   "id": "9337348d",
   "metadata": {},
   "outputs": [],
   "source": [
    "import numpy as np\n",
    "from collections import Counter\n",
    "import torch\n",
    "from torch.utils.data import Dataset\n",
    "from torchtext.data import to_map_style_dataset\n",
    "from torchtext.vocab import vocab\n",
    "from torchtext.datasets import WikiText2, WikiText103\n",
    "\n",
    "from utils.constants import (\n",
    "    CBOW_N_WORDS,\n",
    "    SKIPGRAM_N_WORDS,\n",
    "    MIN_WORD_FREQUENCY,\n",
    "    SKIPGRAM_CONTEXT_SAMPLING_POWER,\n",
    ")\n",
    "\n",
    "\n",
    "class CBOW_Dataset(Dataset):\n",
    "    def __init__(self, name, set_type, data_dir, vocab=None):\n",
    "        self.data_iter = self._get_data_iterator(name, set_type, data_dir)\n",
    "        self.tokens = self._get_tokens_from_iterator(self.data_iter)\n",
    "        if vocab != None:\n",
    "            self.vocab = vocab\n",
    "        else:\n",
    "            self.vocab = self._build_vocabulary(self.tokens)\n",
    "        self.vocab_size = len(self.vocab.get_stoi())\n",
    "\n",
    "    def _get_data_iterator(self, dataset_name, set_type, data_dir):\n",
    "        if dataset_name == \"WikiText2\":\n",
    "            data_iter = WikiText2(root=data_dir, split=(set_type))\n",
    "        elif dataset_name == \"WikiText103\":\n",
    "            data_iter = WikiText103(root=data_dir, split=(set_type))\n",
    "        else:\n",
    "            raise ValueError(\"Choose dataset from: WikiText2, WikiText103\")\n",
    "        data_iter = to_map_style_dataset(data_iter)\n",
    "        return data_iter\n",
    "\n",
    "    def _get_tokens_from_iterator(self, data_iter):\n",
    "        tokens = []\n",
    "        for line in data_iter:\n",
    "            line_lower = line.lower()\n",
    "            tokens += line_lower.split()\n",
    "        return tokens\n",
    "\n",
    "    def _build_vocabulary(self, tokens):\n",
    "        tokens_counter = Counter(tokens)\n",
    "        vocabulary = vocab(tokens_counter, min_freq=MIN_WORD_FREQUENCY)\n",
    "        vocabulary.set_default_index(vocabulary[\"<unk>\"])\n",
    "        return vocabulary\n",
    "\n",
    "    def __len__(self):\n",
    "        return len(self.tokens) - CBOW_N_WORDS * 2\n",
    "\n",
    "    def __getitem__(self, idx):\n",
    "        token_sequence = self.tokens[idx : (idx + CBOW_N_WORDS * 2 + 1)]\n",
    "        token_id_sequence = self.vocab(token_sequence)\n",
    "        output = token_id_sequence.pop(CBOW_N_WORDS)\n",
    "        inputs = token_id_sequence\n",
    "\n",
    "        output = torch.tensor(output, dtype=torch.long)\n",
    "        inputs = torch.tensor(inputs, dtype=torch.long)\n",
    "        return inputs, output"
   ]
  },
  {
   "cell_type": "code",
   "execution_count": 4,
   "id": "8992a773",
   "metadata": {},
   "outputs": [],
   "source": [
    "data_iter = WikiText2(root=\"../data/\", split=(\"train\"))"
   ]
  },
  {
   "cell_type": "code",
   "execution_count": 9,
   "id": "aa5f2566",
   "metadata": {},
   "outputs": [
    {
     "name": "stdout",
     "output_type": "stream",
     "text": [
      " The game began development in 2010 , carrying over a large portion of the work done on Valkyria Chronicles II . While it retained the standard features of the series , it also underwent multiple adjustments , such as making the game more <unk> for series newcomers . Character designer <unk> Honjou and composer Hitoshi Sakimoto both returned from previous entries , along with Valkyria Chronicles II director Takeshi Ozawa . A large team of writers handled the script . The game 's opening theme was sung by May 'n . \n",
      "\n"
     ]
    }
   ],
   "source": [
    "for data in data_iter:\n",
    "    print(data)\n",
    "    break"
   ]
  },
  {
   "cell_type": "code",
   "execution_count": 10,
   "id": "9ffc7bc4",
   "metadata": {},
   "outputs": [
    {
     "data": {
      "text/plain": [
       "\" The game began development in 2010 , carrying over a large portion of the work done on Valkyria Chronicles II . While it retained the standard features of the series , it also underwent multiple adjustments , such as making the game more <unk> for series newcomers . Character designer <unk> Honjou and composer Hitoshi Sakimoto both returned from previous entries , along with Valkyria Chronicles II director Takeshi Ozawa . A large team of writers handled the script . The game 's opening theme was sung by May 'n . \\n\""
      ]
     },
     "execution_count": 10,
     "metadata": {},
     "output_type": "execute_result"
    }
   ],
   "source": []
  },
  {
   "cell_type": "code",
   "execution_count": null,
   "id": "db1ad2f0",
   "metadata": {},
   "outputs": [],
   "source": []
  },
  {
   "cell_type": "code",
   "execution_count": null,
   "id": "58658db6",
   "metadata": {},
   "outputs": [],
   "source": []
  },
  {
   "cell_type": "code",
   "execution_count": null,
   "id": "08bf17c8",
   "metadata": {},
   "outputs": [],
   "source": [
    "import torch.nn as nn\n",
    "\n",
    "from utils.constants import EMBED_DIMENSION\n",
    "\n",
    "\n",
    "class CBOW_Model(nn.Module):\n",
    "    def __init__(self, vocab_size: int):\n",
    "        super(CBOW_Model, self).__init__()\n",
    "        self.embeddings = nn.Embedding(\n",
    "            num_embeddings=vocab_size,\n",
    "            embedding_dim=EMBED_DIMENSION,\n",
    "        )\n",
    "        self.linear = nn.Linear(\n",
    "            in_features=EMBED_DIMENSION,\n",
    "            out_features=vocab_size,\n",
    "        )\n",
    "\n",
    "    def forward(self, inputs_):\n",
    "        x = self.embeddings(inputs_)\n",
    "        x = x.mean(axis=1)\n",
    "        x = self.linear(x)\n",
    "        return x"
   ]
  },
  {
   "cell_type": "code",
   "execution_count": null,
   "id": "ff1f0d0f",
   "metadata": {},
   "outputs": [],
   "source": []
  },
  {
   "cell_type": "code",
   "execution_count": null,
   "id": "90dae8ab",
   "metadata": {},
   "outputs": [],
   "source": [
    "data.split()"
   ]
  },
  {
   "cell_type": "code",
   "execution_count": 12,
   "id": "4fbad1c6",
   "metadata": {},
   "outputs": [],
   "source": [
    "def collate_batch(batch):\n",
    "    label_list, text_list, offsets = [], [], [0]\n",
    "    for (_label, _text) in batch:\n",
    "        label_list.append(label_pipeline(_label))\n",
    "        processed_text = torch.tensor(text_pipeline(_text), dtype=torch.int64)\n",
    "        text_list.append(processed_text)\n",
    "        offsets.append(processed_text.size(0))\n",
    "    label_list = torch.tensor(label_list, dtype=torch.int64)\n",
    "    offsets = torch.tensor(offsets[:-1]).cumsum(dim=0)\n",
    "    text_list = torch.cat(text_list)\n",
    "    return label_list.to(device), text_list.to(device), offsets.to(device)"
   ]
  },
  {
   "cell_type": "code",
   "execution_count": null,
   "id": "948f924f",
   "metadata": {},
   "outputs": [],
   "source": []
  },
  {
   "cell_type": "code",
   "execution_count": 180,
   "id": "1d01d578",
   "metadata": {},
   "outputs": [],
   "source": [
    "from torchtext.data.utils import get_tokenizer\n",
    "from torchtext.data import to_map_style_dataset\n",
    "from torchtext.vocab import build_vocab_from_iterator\n",
    "\n",
    "from torch.utils.data import DataLoader\n",
    "from torchtext.datasets import WikiText2\n",
    "\n",
    "\n",
    "from utils.constants import CBOW_N_WORDS, MIN_WORD_FREQUENCY, MAX_SEQUENCE_LENGTH\n",
    "\n",
    "\n",
    "def get_english_tokenizer():\n",
    "    \"\"\"\n",
    "    Documentation:\n",
    "    https://pytorch.org/text/stable/_modules/torchtext/data/utils.html#get_tokenizer\n",
    "    \"\"\"\n",
    "    tokenizer = get_tokenizer(\"basic_english\", language=\"en\")\n",
    "    return tokenizer\n",
    "\n",
    "\n",
    "def get_data_iterator(ds_name, ds_type, data_dir):\n",
    "    if ds_name == \"WikiText2\":\n",
    "        data_iter = WikiText2(root=data_dir, split=(ds_type))\n",
    "    elif ds_name == \"WikiText103\":\n",
    "        data_iter = WikiText103(root=data_dir, split=(ds_type))\n",
    "    else:\n",
    "        raise ValueError(\"Choose dataset from: WikiText2, WikiText103\")\n",
    "    data_iter = to_map_style_dataset(data_iter)\n",
    "    return data_iter\n",
    "\n",
    "\n",
    "def build_vocab(data_iter, tokenizer):\n",
    "    vocab = build_vocab_from_iterator(\n",
    "        map(tokenizer, data_iter),\n",
    "        specials=[\"<unk>\"],\n",
    "        min_freq=MIN_WORD_FREQUENCY,\n",
    "    )\n",
    "    vocab.set_default_index(vocab[\"<unk>\"])\n",
    "    return vocab\n",
    "\n",
    "\n",
    "def collate_batch_cbow(batch):\n",
    "    batch_input, batch_output = [], []\n",
    "    for text in batch:\n",
    "        text_tokens = tokenizer(text)\n",
    "        text_tokens_ids = vocab(text_tokens)\n",
    "\n",
    "        if len(text_tokens_ids) < CBOW_N_WORDS * 2 + 1:\n",
    "            continue\n",
    "\n",
    "        if MAX_SEQUENCE_LENGTH:\n",
    "            text_tokens_ids = text_tokens_ids[:MAX_SEQUENCE_LENGTH]\n",
    "\n",
    "        for idx in range(len(text_tokens_ids) - CBOW_N_WORDS * 2):\n",
    "            token_id_sequence = text_tokens_ids[idx : (idx + CBOW_N_WORDS * 2 + 1)]\n",
    "            output = token_id_sequence.pop(CBOW_N_WORDS)\n",
    "            input_ = token_id_sequence\n",
    "            batch_input.append(input_)\n",
    "            batch_output.append(output)\n",
    "\n",
    "    batch_input = torch.tensor(batch_input, dtype=torch.long)\n",
    "    batch_output = torch.tensor(batch_output, dtype=torch.long)\n",
    "    return batch_input, batch_output\n",
    "\n",
    "\n",
    "def get_dataloader(\n",
    "    model_name, ds_name, ds_type, data_dir, batch_size, shuffle, vocab=None\n",
    "):\n",
    "\n",
    "    data_iter = get_data_iterator(ds_name, ds_type, data_dir)\n",
    "    tokenizer = get_english_tokenizer()\n",
    "\n",
    "    if not vocab:\n",
    "        vocab = build_vocab(data_iter, tokenizer)\n",
    "\n",
    "    if model_name == \"cbow\":\n",
    "        collate_fn = collate_batch_cbow\n",
    "    else:\n",
    "        raise ValueError(\"Choose model from: cbow, skipgram\")\n",
    "\n",
    "    dataloader = DataLoader(\n",
    "        data_iter,\n",
    "        batch_size=batch_size,\n",
    "        shuffle=shuffle,\n",
    "        collate_fn=collate_fn,\n",
    "    )\n",
    "    return dataloader"
   ]
  },
  {
   "cell_type": "code",
   "execution_count": null,
   "id": "3f160c6c",
   "metadata": {},
   "outputs": [],
   "source": [
    "from torch.utils.data import DataLoader\n",
    "from torchtext.datasets import WikiText2\n",
    "from torchtext.data.utils import get_tokenizer\n",
    "from torchtext.vocab import build_vocab_from_iterator\n",
    "\n",
    "tokenizer = get_tokenizer(\"basic_english\")\n",
    "text_pipeline = lambda x: tokenizer(x)\n",
    "\n",
    "device = torch.device(\"cuda\" if torch.cuda.is_available() else \"cpu\")\n",
    "\n",
    "tokenizer = get_tokenizer(\"basic_english\")\n",
    "train_iter = WikiText2(root=\"../data\", split=\"train\")\n",
    "\n",
    "\n",
    "def yield_tokens(data_iter):\n",
    "    for text in data_iter:\n",
    "        yield tokenizer(text)\n",
    "\n",
    "\n",
    "vocab = build_vocab_from_iterator(yield_tokens(train_iter), specials=[\"<unk>\"])\n",
    "vocab.set_default_index(vocab[\"<unk>\"])\n",
    "\n",
    "\n",
    "tokenizer = get_tokenizer(\"basic_english\")\n",
    "text_pipeline = lambda x: vocab(tokenizer(x))\n",
    "\n",
    "\n",
    "\n",
    "\n",
    "\n",
    "train_iter = WikiText2(root=\"../data\", split=\"train\")\n",
    "dataloader = DataLoader(\n",
    "    train_iter, batch_size=6, shuffle=False, collate_fn=collate_batch\n",
    ")"
   ]
  },
  {
   "cell_type": "code",
   "execution_count": null,
   "id": "7bf41d06",
   "metadata": {},
   "outputs": [],
   "source": []
  },
  {
   "cell_type": "code",
   "execution_count": null,
   "id": "76f41440",
   "metadata": {},
   "outputs": [],
   "source": []
  },
  {
   "cell_type": "code",
   "execution_count": 23,
   "id": "53d60a66",
   "metadata": {},
   "outputs": [],
   "source": [
    "from torch.utils.data import DataLoader\n",
    "from torchtext.datasets import AG_NEWS\n",
    "\n",
    "from torchtext.vocab import build_vocab_from_iterator\n",
    "\n",
    "device = torch.device(\"cuda\" if torch.cuda.is_available() else \"cpu\")\n",
    "\n",
    "\n",
    "tokenizer = get_tokenizer(\"basic_english\")\n",
    "train_iter = AG_NEWS(split=\"train\")\n",
    "\n",
    "\n",
    "def yield_tokens(data_iter):\n",
    "    for _, text in data_iter:\n",
    "        yield tokenizer(text)\n",
    "\n",
    "\n",
    "vocab = build_vocab_from_iterator(yield_tokens(train_iter), specials=[\"<unk>\"])\n",
    "vocab.set_default_index(vocab[\"<unk>\"])\n",
    "\n",
    "text_pipeline = lambda x: vocab(tokenizer(x.lower()))\n",
    "label_pipeline = lambda x: int(x) - 1\n",
    "\n",
    "\n",
    "def collate_batch(batch):\n",
    "    label_list, text_list, offsets = [], [], [0]\n",
    "    for (_label, _text) in batch:\n",
    "        label_list.append(label_pipeline(_label))\n",
    "        processed_text = torch.tensor(text_pipeline(_text), dtype=torch.int64)\n",
    "        text_list.append(processed_text)\n",
    "        offsets.append(processed_text.size(0))\n",
    "    label_list = torch.tensor(label_list, dtype=torch.int64)\n",
    "    offsets = torch.tensor(offsets[:-1]).cumsum(dim=0)\n",
    "    text_list = torch.cat(text_list)\n",
    "    return label_list.to(device), text_list.to(device), offsets.to(device)\n",
    "\n",
    "\n",
    "train_iter = WikiText2(root='../data', split=\"train\")\n",
    "dataloader = DataLoader(\n",
    "    train_iter, batch_size=8, shuffle=False, collate_fn=collate_batch\n",
    ")"
   ]
  },
  {
   "cell_type": "code",
   "execution_count": 20,
   "id": "4a155286",
   "metadata": {},
   "outputs": [],
   "source": [
    "for batch in train_iter:\n",
    "    break"
   ]
  },
  {
   "cell_type": "code",
   "execution_count": 21,
   "id": "b4edbc19",
   "metadata": {},
   "outputs": [
    {
     "data": {
      "text/plain": [
       "(3,\n",
       " 'Carlyle Looks Toward Commercial Aerospace (Reuters) Reuters - Private investment firm Carlyle Group,\\\\which has a reputation for making well-timed and occasionally\\\\controversial plays in the defense industry, has quietly placed\\\\its bets on another part of the market.')"
      ]
     },
     "execution_count": 21,
     "metadata": {},
     "output_type": "execute_result"
    }
   ],
   "source": [
    "batch"
   ]
  },
  {
   "cell_type": "code",
   "execution_count": 22,
   "id": "18b40bdf",
   "metadata": {},
   "outputs": [
    {
     "data": {
      "text/plain": [
       "(tensor([2, 2]),\n",
       " tensor([15874,  1072,   854,  1310,  4250,    13,    27,    14,    27,    15,\n",
       "           929,   797,   320, 15874,    98,     3, 27657,    28,     5,  4459,\n",
       "            11,   564, 52790,     8, 80617,  2125,     7,     2,   525,   241,\n",
       "             3,    28,  3890, 82814,  6574,    10,   206,   359,     6,     2,\n",
       "           126,     1, 15874,  1072,   854,  1310,  4250,    13,    27,    14,\n",
       "            27,    15,   929,   797,   320, 15874,    98,     3, 27657,    28,\n",
       "             5,  4459,    11,   564, 52790,     8, 80617,  2125,     7,     2,\n",
       "           525,   241,     3,    28,  3890, 82814,  6574,    10,   206,   359,\n",
       "             6,     2,   126,     1]),\n",
       " tensor([ 0, 42]))"
      ]
     },
     "execution_count": 22,
     "metadata": {},
     "output_type": "execute_result"
    }
   ],
   "source": [
    "collate_batch([batch, batch])"
   ]
  },
  {
   "cell_type": "code",
   "execution_count": null,
   "id": "322b5f70",
   "metadata": {},
   "outputs": [],
   "source": []
  },
  {
   "cell_type": "code",
   "execution_count": null,
   "id": "0174a8c9",
   "metadata": {},
   "outputs": [],
   "source": []
  },
  {
   "cell_type": "code",
   "execution_count": null,
   "id": "dfd61f48",
   "metadata": {},
   "outputs": [],
   "source": []
  },
  {
   "cell_type": "code",
   "execution_count": 73,
   "id": "be1d156a",
   "metadata": {},
   "outputs": [],
   "source": [
    "from torch.utils.data import DataLoader\n",
    "from torchtext.datasets import WikiText2\n",
    "from torchtext.data.utils import get_tokenizer\n",
    "from torchtext.vocab import build_vocab_from_iterator\n",
    "\n",
    "tokenizer = get_tokenizer(\"basic_english\")\n",
    "text_pipeline = lambda x: tokenizer(x)\n",
    "\n",
    "\n",
    "def collate_batch(batch):\n",
    "    inputs_all, output_all, all_texts = [], [], []\n",
    "    for (_, _text) in batch:\n",
    "        all_texts.append(_text)\n",
    "        text_tokens_ids = text_pipeline(_text)\n",
    "        for idx in range(len(text_tokens_ids) - CBOW_N_WORDS * 2):\n",
    "            token_id_sequence = text_tokens_ids[idx : (idx + CBOW_N_WORDS * 2 + 1)]\n",
    "            output = token_id_sequence.pop(CBOW_N_WORDS)\n",
    "            inputs = token_id_sequence\n",
    "            inputs_all.append(inputs)\n",
    "            output_all.append(output)\n",
    "\n",
    "    # label_list = torch.tensor(label_list, dtype=torch.long)\n",
    "    # text_list = torch.tensor(text_list, dtype=torch.long)\n",
    "\n",
    "    return np.array(inputs_all), np.array(output_all), all_texts\n",
    "\n",
    "\n",
    "train_iter = WikiText2(root=\"../data\", split=\"train\")\n",
    "dataloader = DataLoader(\n",
    "    train_iter, batch_size=6, shuffle=False, collate_fn=collate_batch\n",
    ")"
   ]
  },
  {
   "cell_type": "code",
   "execution_count": 78,
   "id": "c2225b9a",
   "metadata": {},
   "outputs": [
    {
     "data": {
      "text/plain": [
       "\" The game began development in 2010 , carrying over a large portion of the work done on Valkyria Chronicles II . While it retained the standard features of the series , it also underwent multiple adjustments , such as making the game more <unk> for series newcomers . Character designer <unk> Honjou and composer Hitoshi Sakimoto both returned from previous entries , along with Valkyria Chronicles II director Takeshi Ozawa . A large team of writers handled the script . The game 's opening theme was sung by May 'n . \\n\""
      ]
     },
     "execution_count": 78,
     "metadata": {},
     "output_type": "execute_result"
    }
   ],
   "source": [
    "data = next(train_iter)\n",
    "data"
   ]
  },
  {
   "cell_type": "code",
   "execution_count": 115,
   "id": "3895fd15",
   "metadata": {},
   "outputs": [],
   "source": [
    "from torch.utils.data import DataLoader\n",
    "from torchtext.datasets import WikiText2\n",
    "from torchtext.data.utils import get_tokenizer\n",
    "from torchtext.vocab import build_vocab_from_iterator\n",
    "\n",
    "tokenizer = get_tokenizer(\"basic_english\")\n",
    "text_pipeline = lambda x: tokenizer(x)\n",
    "\n",
    "device = torch.device(\"cuda\" if torch.cuda.is_available() else \"cpu\")\n",
    "\n",
    "tokenizer = get_tokenizer(\"basic_english\")\n",
    "train_iter = WikiText2(root=\"../data\", split=\"train\")\n",
    "\n",
    "\n",
    "def yield_tokens(data_iter):\n",
    "    for text in data_iter:\n",
    "        yield tokenizer(text)\n",
    "\n",
    "\n",
    "vocab = build_vocab_from_iterator(yield_tokens(train_iter), specials=[\"<unk>\"])\n",
    "vocab.set_default_index(vocab[\"<unk>\"])\n",
    "\n",
    "\n",
    "tokenizer = get_tokenizer(\"basic_english\")\n",
    "text_pipeline = lambda x: vocab(tokenizer(x))\n",
    "MAX_SEQUENCE_LENGTH = 200\n",
    "\n",
    "\n",
    "def collate_batch(batch):\n",
    "    batch_input, batch_output, batch_text = [], [], []\n",
    "    for paragraph in batch:\n",
    "        text_tokens_ids = text_pipeline(paragraph)\n",
    "\n",
    "        if len(text_tokens_ids) < CBOW_N_WORDS * 2 + 1:\n",
    "            continue\n",
    "\n",
    "        if MAX_SEQUENCE_LENGTH:\n",
    "            text_tokens_ids = text_tokens_ids[:MAX_SEQUENCE_LENGTH]\n",
    "    \n",
    "\n",
    "        for idx in range(len(text_tokens_ids) - CBOW_N_WORDS * 2):\n",
    "            token_id_sequence = text_tokens_ids[idx : (idx + CBOW_N_WORDS * 2 + 1)]\n",
    "            output = token_id_sequence.pop(CBOW_N_WORDS)\n",
    "            input_ = token_id_sequence\n",
    "            batch_input.append(input_)\n",
    "            batch_output.append(output)\n",
    "\n",
    "        batch_text.append(paragraph)\n",
    "    return np.array(batch_input), np.array(batch_output), batch_text\n",
    "\n",
    "\n",
    "train_iter = WikiText2(root=\"../data\", split=\"train\")\n",
    "dataloader = DataLoader(\n",
    "    train_iter, batch_size=6, shuffle=False, collate_fn=collate_batch\n",
    ")"
   ]
  },
  {
   "cell_type": "code",
   "execution_count": 114,
   "id": "750a8a70",
   "metadata": {},
   "outputs": [
    {
     "data": {
      "text/plain": [
       "[0, 96]"
      ]
     },
     "execution_count": 114,
     "metadata": {},
     "output_type": "execute_result"
    }
   ],
   "source": [
    "vocab([\"hello\", \"world\"])"
   ]
  },
  {
   "cell_type": "code",
   "execution_count": 116,
   "id": "6a13e47d",
   "metadata": {},
   "outputs": [
    {
     "name": "stdout",
     "output_type": "stream",
     "text": [
      "skipping\n",
      "skipping\n",
      "skipping\n",
      "truncating 123\n",
      "truncating 93\n",
      "truncating 103\n",
      "(295, 8)\n",
      "(295,)\n"
     ]
    }
   ],
   "source": [
    "for batch in dataloader:\n",
    "    print(batch[0].shape)\n",
    "    print(batch[1].shape)\n",
    "    break"
   ]
  },
  {
   "cell_type": "code",
   "execution_count": 117,
   "id": "c58394b3",
   "metadata": {},
   "outputs": [
    {
     "name": "stdout",
     "output_type": "stream",
     "text": [
      "Input: [   34 13620   120     1  1063     0 14742     3]\n",
      "Output: 2321\n"
     ]
    }
   ],
   "source": [
    "idx = 114\n",
    "\n",
    "print(\"Input:\", batch[0][idx])\n",
    "print(\"Output:\", batch[1][idx])"
   ]
  },
  {
   "cell_type": "code",
   "execution_count": 98,
   "id": "b26bd1b5",
   "metadata": {},
   "outputs": [
    {
     "data": {
      "text/plain": [
       "[' Senjō no Valkyria 3 : <unk> Chronicles ( Japanese : 戦場のヴァルキュリア3 , lit . Valkyria of the Battlefield 3 ) , commonly referred to as Valkyria Chronicles III outside Japan , is a tactical role @-@ playing video game developed by Sega and Media.Vision for the PlayStation Portable . Released in January 2011 in Japan , it is the third game in the Valkyria series . <unk> the same fusion of tactical and real @-@ time gameplay as its predecessors , the story runs parallel to the first game and follows the \" Nameless \" , a penal military unit serving the nation of Gallia during the Second Europan War who perform secret black operations and are pitted against the Imperial unit \" <unk> Raven \" . \\n',\n",
       " \" The game began development in 2010 , carrying over a large portion of the work done on Valkyria Chronicles II . While it retained the standard features of the series , it also underwent multiple adjustments , such as making the game more <unk> for series newcomers . Character designer <unk> Honjou and composer Hitoshi Sakimoto both returned from previous entries , along with Valkyria Chronicles II director Takeshi Ozawa . A large team of writers handled the script . The game 's opening theme was sung by May 'n . \\n\",\n",
       " \" It met with positive sales in Japan , and was praised by both Japanese and western critics . After release , it received downloadable content , along with an expanded edition in November of that year . It was also adapted into manga and an original video animation series . Due to low sales of Valkyria Chronicles II , Valkyria Chronicles III was not localized , but a fan translation compatible with the game 's expanded edition was released in 2014 . Media.Vision would return to the franchise with the development of Valkyria : Azure Revolution for the PlayStation 4 . \\n\"]"
      ]
     },
     "execution_count": 98,
     "metadata": {},
     "output_type": "execute_result"
    }
   ],
   "source": [
    "batch[2]"
   ]
  },
  {
   "cell_type": "code",
   "execution_count": 112,
   "id": "c1022b22",
   "metadata": {},
   "outputs": [
    {
     "data": {
      "text/plain": [
       "array(['senjō', 'no', 'valkyria', '3', '<unk>', 'chronicles', '(',\n",
       "       'japanese', '戦場のヴァルキュリア3', ',', 'lit', '.', 'valkyria', 'of',\n",
       "       'the', 'battlefield', '3', ')', ',', 'commonly', 'referred', 'to',\n",
       "       'as', 'valkyria', 'chronicles', 'iii', 'outside', 'japan', ',',\n",
       "       'is', 'a', 'tactical', 'role', '@-@', 'playing', 'video', 'game',\n",
       "       'developed', 'by', 'sega', 'and', 'media', '.', 'vision', 'for',\n",
       "       'the', 'playstation', 'portable', '.', 'released', 'in', 'january',\n",
       "       '2011', 'in', 'japan', ',', 'it', 'is', 'the', 'third', 'game',\n",
       "       'in', 'the', 'valkyria', 'series', '.', '<unk>', 'the', 'same',\n",
       "       'fusion', 'of', 'tactical', 'and', 'real', '@-@', 'time',\n",
       "       'gameplay', 'as', 'its', 'predecessors', ',', 'the', 'story',\n",
       "       'runs', 'parallel', 'to', 'the', 'first', 'game', 'and', 'follows',\n",
       "       'the', 'nameless', ',', 'a', 'penal', 'military', 'unit',\n",
       "       'serving', 'the', 'nation', 'of', 'gallia', 'during', 'the',\n",
       "       'second', 'europan', 'war', 'who', 'perform', 'secret', 'black',\n",
       "       'operations', 'and', 'are', 'pitted', 'against', 'the', 'imperial',\n",
       "       'unit', '<unk>', 'raven', '.'], dtype='<U12')"
      ]
     },
     "execution_count": 112,
     "metadata": {},
     "output_type": "execute_result"
    }
   ],
   "source": [
    "np.array(tokenizer(batch[2][0]))"
   ]
  },
  {
   "cell_type": "code",
   "execution_count": null,
   "id": "0e7fa6fb",
   "metadata": {},
   "outputs": [],
   "source": []
  }
 ],
 "metadata": {
  "environment": {
   "name": "tf2-gpu.2-3.m74",
   "type": "gcloud",
   "uri": "gcr.io/deeplearning-platform-release/tf2-gpu.2-3:m74"
  },
  "kernelspec": {
   "display_name": "Python 3",
   "language": "python",
   "name": "python3"
  },
  "language_info": {
   "codemirror_mode": {
    "name": "ipython",
    "version": 3
   },
   "file_extension": ".py",
   "mimetype": "text/x-python",
   "name": "python",
   "nbconvert_exporter": "python",
   "pygments_lexer": "ipython3",
   "version": "3.7.10"
  }
 },
 "nbformat": 4,
 "nbformat_minor": 5
}
