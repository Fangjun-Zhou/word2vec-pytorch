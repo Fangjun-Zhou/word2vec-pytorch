{
 "cells": [
  {
   "cell_type": "code",
   "execution_count": 1,
   "id": "1bad9cb0",
   "metadata": {},
   "outputs": [],
   "source": [
    "%load_ext autoreload\n",
    "%autoreload 2\n",
    "%load_ext lab_black"
   ]
  },
  {
   "cell_type": "code",
   "execution_count": 2,
   "id": "570b8fea",
   "metadata": {},
   "outputs": [],
   "source": [
    "import numpy as np\n",
    "import pandas as pd\n",
    "import sys\n",
    "import yaml\n",
    "import torch\n",
    "import torch.nn as nn\n",
    "import torch.optim as optim\n",
    "import torchtext\n",
    "from torch.utils.data import DataLoader\n",
    "\n",
    "from torchtext.data.utils import get_tokenizer, ngrams_iterator\n",
    "\n",
    "import nltk\n",
    "\n",
    "sys.path.append(\"../\")\n",
    "\n",
    "from utils.model import CBOW_Model\n",
    "from utils.dataset import CBOW_Dataset\n",
    "from utils.constants import MIN_WORD_FREQUENCY\n",
    "from utils.trainer import Trainer"
   ]
  },
  {
   "cell_type": "code",
   "execution_count": 3,
   "id": "f8f9cef0",
   "metadata": {},
   "outputs": [
    {
     "data": {
      "text/plain": [
       "{'dataset': 'WikiText2',\n",
       " 'data_dir': 'data/',\n",
       " 'train_batch_size': 500,\n",
       " 'val_batch_size': 500,\n",
       " 'learning_rate': 0.025,\n",
       " 'epochs': 2,\n",
       " 'train_steps': 10,\n",
       " 'val_steps': 10,\n",
       " 'model_dir': 'weights/'}"
      ]
     },
     "execution_count": 3,
     "metadata": {},
     "output_type": "execute_result"
    }
   ],
   "source": [
    "with open(\"../config.yaml\", \"r\") as stream:\n",
    "    config = yaml.safe_load(stream)\n",
    "\n",
    "config"
   ]
  },
  {
   "cell_type": "code",
   "execution_count": 4,
   "id": "1273cb3d",
   "metadata": {},
   "outputs": [],
   "source": [
    "model = torch.load(\"../weights/model.pt\")"
   ]
  },
  {
   "cell_type": "code",
   "execution_count": 5,
   "id": "aa38d3f3",
   "metadata": {},
   "outputs": [],
   "source": [
    "train_dataset = CBOW_Dataset(\n",
    "    name=config[\"dataset\"],\n",
    "    set_type=\"train\",\n",
    "    data_dir=\"../data\",\n",
    "    vocab=None,\n",
    ")\n",
    "train_dataloader = DataLoader(\n",
    "    train_dataset, batch_size=500, shuffle=True, drop_last=True\n",
    ")"
   ]
  },
  {
   "cell_type": "code",
   "execution_count": 7,
   "id": "a9e66532",
   "metadata": {},
   "outputs": [],
   "source": [
    "for batch in train_dataloader:\n",
    "    break"
   ]
  },
  {
   "cell_type": "code",
   "execution_count": 8,
   "id": "9eeba0a7",
   "metadata": {},
   "outputs": [
    {
     "data": {
      "text/plain": [
       "torch.Size([500, 4122])"
      ]
     },
     "execution_count": 8,
     "metadata": {},
     "output_type": "execute_result"
    }
   ],
   "source": [
    "preds = model(batch[0])\n",
    "preds.shape"
   ]
  },
  {
   "cell_type": "code",
   "execution_count": 16,
   "id": "a95e1857",
   "metadata": {},
   "outputs": [
    {
     "name": "stdout",
     "output_type": "stream",
     "text": [
      "torch.Size([300, 4122])\n",
      "torch.Size([300])\n",
      "torch.Size([4122, 300])\n",
      "torch.Size([4122])\n"
     ]
    }
   ],
   "source": [
    "for param in model.parameters():\n",
    "    print(param.shape)"
   ]
  },
  {
   "cell_type": "code",
   "execution_count": null,
   "id": "59a75efa",
   "metadata": {},
   "outputs": [],
   "source": []
  }
 ],
 "metadata": {
  "environment": {
   "name": "tf2-gpu.2-3.m74",
   "type": "gcloud",
   "uri": "gcr.io/deeplearning-platform-release/tf2-gpu.2-3:m74"
  },
  "kernelspec": {
   "display_name": "Python 3",
   "language": "python",
   "name": "python3"
  },
  "language_info": {
   "codemirror_mode": {
    "name": "ipython",
    "version": 3
   },
   "file_extension": ".py",
   "mimetype": "text/x-python",
   "name": "python",
   "nbconvert_exporter": "python",
   "pygments_lexer": "ipython3",
   "version": "3.7.10"
  }
 },
 "nbformat": 4,
 "nbformat_minor": 5
}
