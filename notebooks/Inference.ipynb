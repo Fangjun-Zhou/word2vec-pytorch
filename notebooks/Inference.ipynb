{
 "cells": [
  {
   "cell_type": "code",
   "execution_count": 1,
   "id": "77a3ae0f",
   "metadata": {},
   "outputs": [],
   "source": [
    "%load_ext autoreload\n",
    "%autoreload 2\n",
    "%load_ext lab_black"
   ]
  },
  {
   "cell_type": "code",
   "execution_count": 4,
   "id": "db04a788",
   "metadata": {},
   "outputs": [],
   "source": [
    "import numpy as np\n",
    "import torch\n",
    "import sys\n",
    "\n",
    "sys.path.append(\"../\")"
   ]
  },
  {
   "cell_type": "markdown",
   "id": "a535828b",
   "metadata": {},
   "source": [
    "## Loading Model and Vocabulary"
   ]
  },
  {
   "cell_type": "code",
   "execution_count": 117,
   "id": "a0001821",
   "metadata": {},
   "outputs": [],
   "source": [
    "folder = \"weights/cbow_WikiText2_minfreq_20\"\n",
    "device = torch.device(\"cuda\" if torch.cuda.is_available() else \"cpu\")\n",
    "\n",
    "model = torch.load(f\"../{folder}/model.pt\", map_location=device)\n",
    "vocab = torch.load(f\"../{folder}/vocab.pt\")"
   ]
  },
  {
   "cell_type": "markdown",
   "id": "49571020",
   "metadata": {},
   "source": [
    "## Getting Embeddings"
   ]
  },
  {
   "cell_type": "code",
   "execution_count": 118,
   "id": "9b2fc4be",
   "metadata": {},
   "outputs": [
    {
     "data": {
      "text/plain": [
       "(8130, 300)"
      ]
     },
     "execution_count": 118,
     "metadata": {},
     "output_type": "execute_result"
    }
   ],
   "source": [
    "# embedding from first model layer\n",
    "embeddings = list(model.parameters())[0]\n",
    "embeddings = embeddings.cpu().detach().numpy()\n",
    "\n",
    "# normalization\n",
    "embed_norms = (embeddings ** 2).sum(axis=1) ** (1 / 2)\n",
    "embed_norms = np.reshape(embed_norms, (len(embed_norms), 1))\n",
    "embeddings = embeddings / embed_norms\n",
    "embeddings.shape"
   ]
  },
  {
   "cell_type": "code",
   "execution_count": 119,
   "id": "84ed0996",
   "metadata": {},
   "outputs": [
    {
     "data": {
      "text/plain": [
       "8130"
      ]
     },
     "execution_count": 119,
     "metadata": {},
     "output_type": "execute_result"
    }
   ],
   "source": [
    "# tokens from vocabulary\n",
    "tokens = vocab.get_itos()\n",
    "len(tokens)"
   ]
  },
  {
   "cell_type": "markdown",
   "id": "0e151e79",
   "metadata": {},
   "source": [
    "## Find Similar Words"
   ]
  },
  {
   "cell_type": "code",
   "execution_count": 120,
   "id": "bb5a5387",
   "metadata": {},
   "outputs": [],
   "source": [
    "def get_top_similar(word: str, topN: int = 10):\n",
    "    word_id = vocab[word]\n",
    "    if word_id == 0:\n",
    "        print(\"Out of vocabulary word\")\n",
    "        return\n",
    "\n",
    "    word_vec = embeddings[word_id]\n",
    "    word_vec = np.reshape(word_vec, (len(word_vec), 1))\n",
    "    dists = np.matmul(embeddings, word_vec).flatten()\n",
    "    topN_ids = np.argsort(-dists)[1 : topN + 1]\n",
    "\n",
    "    topN_dict = {}\n",
    "    for sim_word_id in topN_ids:\n",
    "        sim_word = vocab.lookup_token(sim_word_id)\n",
    "        dist = dists[sim_word_id]\n",
    "        topN_dict[sim_word] = np.round(dist, 3)\n",
    "    return topN_dict"
   ]
  },
  {
   "cell_type": "code",
   "execution_count": 142,
   "id": "50abebea",
   "metadata": {},
   "outputs": [
    {
     "data": {
      "text/plain": [
       "{'elevation': 0.561,\n",
       " 'base': 0.534,\n",
       " 'load': 0.53,\n",
       " 'intersection': 0.515,\n",
       " 'height': 0.513,\n",
       " 'mouth': 0.509,\n",
       " 'speed': 0.498,\n",
       " 'teeth': 0.496,\n",
       " 'start': 0.491,\n",
       " 'clearing': 0.482}"
      ]
     },
     "execution_count": 142,
     "metadata": {},
     "output_type": "execute_result"
    }
   ],
   "source": [
    "get_top_similar(\"angle\")"
   ]
  },
  {
   "cell_type": "markdown",
   "id": "ed2f738f",
   "metadata": {},
   "source": [
    "## Vector Equations"
   ]
  },
  {
   "cell_type": "code",
   "execution_count": 123,
   "id": "85281cd7",
   "metadata": {},
   "outputs": [
    {
     "name": "stdout",
     "output_type": "stream",
     "text": [
      "king: 0.707\n",
      "leo: 0.552\n",
      "philip: 0.524\n",
      "hairan: 0.522\n",
      "inherited: 0.514\n"
     ]
    }
   ],
   "source": [
    "emb1 = embeddings[vocab[\"king\"]]\n",
    "emb2 = embeddings[vocab[\"man\"]]\n",
    "emb3 = embeddings[vocab[\"woman\"]]\n",
    "\n",
    "emb4 = emb1 - emb2 + emb3\n",
    "emb4_norm = (emb4 ** 2).sum() ** (1 / 2)\n",
    "emb4 = emb4 / emb4_norm\n",
    "\n",
    "emb4 = np.reshape(emb4, (len(emb4), 1))\n",
    "dists = np.matmul(embeddings, emb4).flatten()\n",
    "\n",
    "top5 = np.argsort(-dists)[:5]\n",
    "\n",
    "for word_id in top5:\n",
    "    print(\"{}: {:.3f}\".format(vocab.lookup_token(word_id), dists[word_id]))"
   ]
  },
  {
   "cell_type": "code",
   "execution_count": null,
   "id": "e59e3417",
   "metadata": {},
   "outputs": [],
   "source": []
  }
 ],
 "metadata": {
  "environment": {
   "name": "tf2-gpu.2-3.m74",
   "type": "gcloud",
   "uri": "gcr.io/deeplearning-platform-release/tf2-gpu.2-3:m74"
  },
  "kernelspec": {
   "display_name": "Python 3",
   "language": "python",
   "name": "python3"
  },
  "language_info": {
   "codemirror_mode": {
    "name": "ipython",
    "version": 3
   },
   "file_extension": ".py",
   "mimetype": "text/x-python",
   "name": "python",
   "nbconvert_exporter": "python",
   "pygments_lexer": "ipython3",
   "version": "3.7.10"
  }
 },
 "nbformat": 4,
 "nbformat_minor": 5
}
