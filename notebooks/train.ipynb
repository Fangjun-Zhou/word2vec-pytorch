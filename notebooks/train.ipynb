{
 "cells": [
  {
   "cell_type": "markdown",
   "id": "f6852695",
   "metadata": {
    "tags": []
   },
   "source": [
    "# Import Libraries"
   ]
  },
  {
   "cell_type": "code",
   "execution_count": null,
   "id": "b9895037-4dab-4fe2-ac45-9885160f0d2d",
   "metadata": {},
   "outputs": [],
   "source": [
    "from torchtext.data import get_tokenizer\n",
    "from torchtext.datasets import WikiText2\n",
    "\n",
    "from utils.config import ModelConfig\n",
    "from utils.dataloader import Word2VecDataLoader"
   ]
  },
  {
   "cell_type": "markdown",
   "id": "303a0e09",
   "metadata": {},
   "source": [
    "# Construct DataLoader"
   ]
  },
  {
   "cell_type": "code",
   "execution_count": null,
   "id": "a353a309",
   "metadata": {},
   "outputs": [],
   "source": [
    "# Global configs.\n",
    "word2vecConfig = ModelConfig()\n",
    "word2vecDataLoader = Word2VecDataLoader(word2vecConfig)"
   ]
  },
  {
   "cell_type": "code",
   "execution_count": null,
   "id": "8b9e66a5",
   "metadata": {},
   "outputs": [],
   "source": [
    "# Get english tokenizer.\n",
    "tokenizer = get_tokenizer(\"basic_english\", language=\"en\")\n",
    "# Get WikiText2 dataset.\n",
    "wiki_train, wiki_val, wiki_test = WikiText2()"
   ]
  },
  {
   "cell_type": "code",
   "execution_count": null,
   "id": "9de2f165",
   "metadata": {
    "tags": []
   },
   "outputs": [],
   "source": [
    "# Build vocab from the dataset.\n",
    "vocab = word2vecDataLoader.build_vocab(wiki_train, tokenizer)\n",
    "# List first 10 vocabs.\n",
    "print(vocab.get_itos()[:10])\n",
    "# Encode an exist and non-exist token.\n",
    "print(vocab([\"next\", \"fishball\"]))"
   ]
  }
 ],
 "metadata": {
  "kernelspec": {
   "display_name": "Python 3 (ipykernel)",
   "language": "python",
   "name": "python3"
  },
  "language_info": {
   "codemirror_mode": {
    "name": "ipython",
    "version": 3
   },
   "file_extension": ".py",
   "mimetype": "text/x-python",
   "name": "python",
   "nbconvert_exporter": "python",
   "pygments_lexer": "ipython3",
   "version": "3.9.16"
  }
 },
 "nbformat": 4,
 "nbformat_minor": 5
}
